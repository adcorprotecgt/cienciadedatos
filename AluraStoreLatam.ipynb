{
  "nbformat": 4,
  "nbformat_minor": 0,
  "metadata": {
    "colab": {
      "provenance": [],
      "toc_visible": true
    },
    "kernelspec": {
      "name": "python3",
      "display_name": "Python 3"
    },
    "language_info": {
      "name": "python"
    }
  },
  "cells": [
    {
      "cell_type": "markdown",
      "source": [
        "### Importación de datos\n",
        "\n"
      ],
      "metadata": {
        "id": "RhEdWd9YUR6H"
      }
    },
    {
      "cell_type": "code",
      "execution_count": 2,
      "metadata": {
        "colab": {
          "base_uri": "https://localhost:8080/"
        },
        "id": "T3EvaeQ_INIL",
        "outputId": "5811abb5-c47d-42ba-d018-ceeb0990ad69"
      },
      "outputs": [
        {
          "output_type": "stream",
          "name": "stdout",
          "text": [
            "[ 4.60971  6.25184 10.39972  3.43722 11.24079  4.81333 10.96854  4.142\n",
            "  3.8653   7.89391  5.06889  2.9273   7.12539 10.46314  1.21361 11.54444\n",
            "  4.53389 -4.21528  4.57937]\n"
          ]
        }
      ],
      "source": [
        "import pandas as pd\n",
        "\n",
        "url = \"https://raw.githubusercontent.com/alura-es-cursos/challenge1-data-science-latam/refs/heads/main/base-de-datos-challenge1-latam/tienda_1%20.csv\"\n",
        "url2 = \"https://raw.githubusercontent.com/alura-es-cursos/challenge1-data-science-latam/refs/heads/main/base-de-datos-challenge1-latam/tienda_2.csv\"\n",
        "url3 = \"https://raw.githubusercontent.com/alura-es-cursos/challenge1-data-science-latam/refs/heads/main/base-de-datos-challenge1-latam/tienda_3.csv\"\n",
        "url4 = \"https://raw.githubusercontent.com/alura-es-cursos/challenge1-data-science-latam/refs/heads/main/base-de-datos-challenge1-latam/tienda_4.csv\"\n",
        "\n",
        "tienda = pd.read_csv(url)\n",
        "tienda2 = pd.read_csv(url2)\n",
        "tienda3 = pd.read_csv(url3)\n",
        "tienda4 = pd.read_csv(url4)\n",
        "\n",
        "'''\n",
        "tienda.info()\n",
        "tienda2.info()\n",
        "tienda3.info()\n",
        "tienda4.info()\n",
        "'''\n",
        "#PRODUCTOS DE CADA TIENDA\n",
        "articulos_tienda = tienda['Categoría del Producto'].unique()\n",
        "articulos_tienda2 = tienda2['Categoría del Producto'].unique()\n",
        "articulos_tienda3 = tienda3['Categoría del Producto'].unique()\n",
        "articulos_tienda4 = tienda4['Categoría del Producto'].unique()\n",
        "\n",
        "#METODOS DE PAGO POR CADA TIENDA\n",
        "mpago_tienda = tienda['Método de pago'].unique()\n",
        "mpago_tienda2 = tienda2['Método de pago'].unique()\n",
        "mpago_tienda3 = tienda3['Método de pago'].unique()\n",
        "mpago_tienda4 = tienda4['Método de pago'].unique()\n",
        "\n",
        "\n",
        "#CATEGORIAS DE LOS PRODUCTOS\n",
        "categorias_tienda = tienda['Categoría del Producto'].unique()\n",
        "categorias_tienda2 = tienda2['Categoría del Producto'].unique()\n",
        "categorias_tienda3 = tienda3['Categoría del Producto'].unique()\n",
        "categorias_tienda4 = tienda4['Categoría del Producto'].unique()\n",
        "\n",
        "coordenadas_tienda = tienda['lat'].unique()\n",
        "print(coordenadas_tienda)\n"
      ]
    },
    {
      "cell_type": "markdown",
      "source": [
        "#1. Análisis de facturación\n",
        "\n"
      ],
      "metadata": {
        "id": "X62IW3KFUIYm"
      }
    },
    {
      "cell_type": "markdown",
      "source": [
        "# 2. Ventas por categoría"
      ],
      "metadata": {
        "id": "2V_vcAPzWZmR"
      }
    },
    {
      "cell_type": "code",
      "source": [
        "tienda.info()\n",
        "tienda2.info()\n",
        "tienda3.info()\n",
        "tienda4.info()\n"
      ],
      "metadata": {
        "id": "xykobSftV64I",
        "outputId": "14250936-e7d2-40b9-b0ce-51811f56f204",
        "colab": {
          "base_uri": "https://localhost:8080/"
        }
      },
      "execution_count": 3,
      "outputs": [
        {
          "output_type": "stream",
          "name": "stdout",
          "text": [
            "<class 'pandas.core.frame.DataFrame'>\n",
            "RangeIndex: 2359 entries, 0 to 2358\n",
            "Data columns (total 12 columns):\n",
            " #   Column                  Non-Null Count  Dtype  \n",
            "---  ------                  --------------  -----  \n",
            " 0   Producto                2359 non-null   object \n",
            " 1   Categoría del Producto  2359 non-null   object \n",
            " 2   Precio                  2359 non-null   float64\n",
            " 3   Costo de envío          2359 non-null   float64\n",
            " 4   Fecha de Compra         2359 non-null   object \n",
            " 5   Vendedor                2359 non-null   object \n",
            " 6   Lugar de Compra         2359 non-null   object \n",
            " 7   Calificación            2359 non-null   int64  \n",
            " 8   Método de pago          2359 non-null   object \n",
            " 9   Cantidad de cuotas      2359 non-null   int64  \n",
            " 10  lat                     2359 non-null   float64\n",
            " 11  lon                     2359 non-null   float64\n",
            "dtypes: float64(4), int64(2), object(6)\n",
            "memory usage: 221.3+ KB\n",
            "<class 'pandas.core.frame.DataFrame'>\n",
            "RangeIndex: 2359 entries, 0 to 2358\n",
            "Data columns (total 12 columns):\n",
            " #   Column                  Non-Null Count  Dtype  \n",
            "---  ------                  --------------  -----  \n",
            " 0   Producto                2359 non-null   object \n",
            " 1   Categoría del Producto  2359 non-null   object \n",
            " 2   Precio                  2359 non-null   float64\n",
            " 3   Costo de envío          2359 non-null   float64\n",
            " 4   Fecha de Compra         2359 non-null   object \n",
            " 5   Vendedor                2359 non-null   object \n",
            " 6   Lugar de Compra         2359 non-null   object \n",
            " 7   Calificación            2359 non-null   int64  \n",
            " 8   Método de pago          2359 non-null   object \n",
            " 9   Cantidad de cuotas      2359 non-null   int64  \n",
            " 10  lat                     2359 non-null   float64\n",
            " 11  lon                     2359 non-null   float64\n",
            "dtypes: float64(4), int64(2), object(6)\n",
            "memory usage: 221.3+ KB\n",
            "<class 'pandas.core.frame.DataFrame'>\n",
            "RangeIndex: 2359 entries, 0 to 2358\n",
            "Data columns (total 12 columns):\n",
            " #   Column                  Non-Null Count  Dtype  \n",
            "---  ------                  --------------  -----  \n",
            " 0   Producto                2359 non-null   object \n",
            " 1   Categoría del Producto  2359 non-null   object \n",
            " 2   Precio                  2359 non-null   float64\n",
            " 3   Costo de envío          2359 non-null   float64\n",
            " 4   Fecha de Compra         2359 non-null   object \n",
            " 5   Vendedor                2359 non-null   object \n",
            " 6   Lugar de Compra         2359 non-null   object \n",
            " 7   Calificación            2359 non-null   int64  \n",
            " 8   Método de pago          2359 non-null   object \n",
            " 9   Cantidad de cuotas      2359 non-null   int64  \n",
            " 10  lat                     2359 non-null   float64\n",
            " 11  lon                     2359 non-null   float64\n",
            "dtypes: float64(4), int64(2), object(6)\n",
            "memory usage: 221.3+ KB\n",
            "<class 'pandas.core.frame.DataFrame'>\n",
            "RangeIndex: 2358 entries, 0 to 2357\n",
            "Data columns (total 12 columns):\n",
            " #   Column                  Non-Null Count  Dtype  \n",
            "---  ------                  --------------  -----  \n",
            " 0   Producto                2358 non-null   object \n",
            " 1   Categoría del Producto  2358 non-null   object \n",
            " 2   Precio                  2358 non-null   float64\n",
            " 3   Costo de envío          2358 non-null   float64\n",
            " 4   Fecha de Compra         2358 non-null   object \n",
            " 5   Vendedor                2358 non-null   object \n",
            " 6   Lugar de Compra         2358 non-null   object \n",
            " 7   Calificación            2358 non-null   int64  \n",
            " 8   Método de pago          2358 non-null   object \n",
            " 9   Cantidad de cuotas      2358 non-null   int64  \n",
            " 10  lat                     2358 non-null   float64\n",
            " 11  lon                     2358 non-null   float64\n",
            "dtypes: float64(4), int64(2), object(6)\n",
            "memory usage: 221.2+ KB\n"
          ]
        },
        {
          "output_type": "execute_result",
          "data": {
            "text/plain": [
              "(2359, 12)"
            ]
          },
          "metadata": {},
          "execution_count": 3
        }
      ]
    },
    {
      "cell_type": "code",
      "source": [
        "print(f\"Tienda   * Filas {tienda.shape[0]} Columnas {tienda.shape[1]}\")\n",
        "print(f\"Tienda 2 * Filas {tienda2.shape[0]} Columnas {tienda2.shape[1]}\")\n",
        "print(f\"Tienda 3 * Filas {tienda3.shape[0]} Columnas {tienda3.shape[1]}\")\n",
        "print(f\"Tienda 4 * Filas {tienda4.shape[0]} Columnas {tienda4.shape[1]}\")\n"
      ],
      "metadata": {
        "id": "KDyr8E71V3m-",
        "outputId": "75f47965-6444-491b-957c-c80ddc42130c",
        "colab": {
          "base_uri": "https://localhost:8080/"
        }
      },
      "execution_count": 9,
      "outputs": [
        {
          "output_type": "stream",
          "name": "stdout",
          "text": [
            "Tienda   * Filas 2359 Columnas 12\n",
            "Tienda 2 * Filas 2359 Columnas 12\n",
            "Tienda 3 * Filas 2359 Columnas 12\n",
            "Tienda 4 * Filas 2358 Columnas 12\n"
          ]
        }
      ]
    },
    {
      "cell_type": "markdown",
      "source": [
        "### ***Facturacion Total por tienda***"
      ],
      "metadata": {
        "id": "K1jXYkkxOdIi"
      }
    },
    {
      "cell_type": "code",
      "source": [
        "ventas = []\n",
        "totalTienda  = tienda['Precio'].sum()\n",
        "totalTienda2 = tienda2['Precio'].sum()\n",
        "totalTienda3 = tienda3['Precio'].sum()\n",
        "totalTienda4 = tienda4['Precio'].sum()\n",
        "\n",
        "ventas.append(totalTienda)\n",
        "ventas.append(totalTienda2)\n",
        "ventas.append(totalTienda3)\n",
        "ventas.append(totalTienda4)\n",
        "\n",
        "ventaTotal = [totalTienda,totalTienda2,totalTienda3,totalTienda4]\n",
        "\n",
        "print(f\"Total venta TIENDA  : {totalTienda:,.2f}\")\n",
        "print(f\"Total venta TIENDA2 : {totalTienda2:,.2f}\")\n",
        "print(f\"Total venta TIENDA3 : {totalTienda3:,.2f}\")\n",
        "print(f\"Total venta TIENDA4 : {totalTienda4:,.2f}\")\n",
        "print()\n",
        "print(f\"Total venta TOTAL   : {totalTienda+totalTienda2+totalTienda3+totalTienda4:,.2f}\")\n",
        "print()\n",
        "print()\n",
        "print(f\"Tienda con mayor venta : {max(ventas)}\")\n",
        "print(f\"Tienda con menor venta : {min(ventas)}\")\n",
        "\n",
        "\n",
        "#ventaTotal = tienda['Precio'].sum(),tienda2['Precio'].sum(),tienda3['Precio'].sum(),tienda4['Precio'].sum()\n",
        "#print(ventaTotal)\n",
        "\n"
      ],
      "metadata": {
        "id": "A34YupIuYhfF",
        "outputId": "e5c40839-0c9e-48e0-87b6-637bc3267f25",
        "colab": {
          "base_uri": "https://localhost:8080/"
        }
      },
      "execution_count": 50,
      "outputs": [
        {
          "output_type": "stream",
          "name": "stdout",
          "text": [
            "Total venta TIENDA  : 1,150,880,400.00\n",
            "Total venta TIENDA2 : 1,116,343,500.00\n",
            "Total venta TIENDA3 : 1,098,019,600.00\n",
            "Total venta TIENDA4 : 1,038,375,700.00\n",
            "\n",
            "Total venta TOTAL   : 4,403,619,200.00\n",
            "\n",
            "\n",
            "Tienda con mayor venta : 1150880400.0\n",
            "Tienda con menor venta : 1038375700.0\n"
          ]
        }
      ]
    },
    {
      "cell_type": "markdown",
      "source": [
        "# 3. Calificación promedio de la tienda\n"
      ],
      "metadata": {
        "id": "Rq6tU_xSY3jk"
      }
    },
    {
      "cell_type": "code",
      "source": [],
      "metadata": {
        "id": "bh3jjjJwY5MU"
      },
      "execution_count": null,
      "outputs": []
    },
    {
      "cell_type": "code",
      "source": [],
      "metadata": {
        "id": "I0KkjPoTY88F"
      },
      "execution_count": null,
      "outputs": []
    },
    {
      "cell_type": "markdown",
      "source": [
        "# 4. Productos más y menos vendidos"
      ],
      "metadata": {
        "id": "DmNp1KPBZCm-"
      }
    },
    {
      "cell_type": "code",
      "source": [],
      "metadata": {
        "id": "qoyjqijQZHfF"
      },
      "execution_count": null,
      "outputs": []
    },
    {
      "cell_type": "code",
      "source": [],
      "metadata": {
        "id": "0Sw3sd4IZIGW"
      },
      "execution_count": null,
      "outputs": []
    },
    {
      "cell_type": "markdown",
      "source": [
        "# 5. Envío promedio por tienda"
      ],
      "metadata": {
        "id": "Fl0cGi3bZKqU"
      }
    },
    {
      "cell_type": "code",
      "source": [],
      "metadata": {
        "id": "S2JeaCykZNy9"
      },
      "execution_count": null,
      "outputs": []
    },
    {
      "cell_type": "code",
      "source": [],
      "metadata": {
        "id": "0tSdCie9ZQlt"
      },
      "execution_count": null,
      "outputs": []
    }
  ]
}